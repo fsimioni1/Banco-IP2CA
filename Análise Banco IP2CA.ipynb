{
 "cells": [
  {
   "cell_type": "code",
   "execution_count": 0,
   "metadata": {
    "application/vnd.databricks.v1+cell": {
     "cellMetadata": {
      "byteLimit": 2048000,
      "rowLimit": 10000
     },
     "inputWidgets": {},
     "nuid": "89cba230-b8e2-414f-a417-13d5e61a66b3",
     "showTitle": false,
     "tableResultSettingsMap": {},
     "title": ""
    }
   },
   "outputs": [],
   "source": [
    "# importações necessárias\n",
    "import requests\n",
    "import pandas as pd\n",
    "from io import StringIO\n",
    "from pyspark.sql import SparkSession\n",
    "from datetime import date\n",
    "\n",
    "# parâmetros da URL\n",
    "codigo_serie = 10844  \n",
    "data_inicial = \"01/01/2005\"\n",
    "data_final = date.today().strftime(\"%d/%m/%Y\")\n",
    "\n",
    "# construir URL para acessar API\n",
    "url = f\"https://api.bcb.gov.br/dados/serie/bcdata.sgs.{codigo_serie}/dados?formato=csv&dataInicial={data_inicial}&dataFinal={data_final}\"\n",
    "\n",
    "# requisição\n",
    "response = requests.get(url)"
   ]
  },
  {
   "cell_type": "code",
   "execution_count": 0,
   "metadata": {
    "application/vnd.databricks.v1+cell": {
     "cellMetadata": {
      "byteLimit": 2048000,
      "rowLimit": 10000
     },
     "inputWidgets": {},
     "nuid": "f969eceb-3ef4-4188-a9a3-61d9af63abc3",
     "showTitle": false,
     "tableResultSettingsMap": {},
     "title": ""
    }
   },
   "outputs": [
    {
     "output_type": "stream",
     "name": "stdout",
     "output_type": "stream",
     "text": [
      "+----------+-----+\n|      data|valor|\n+----------+-----+\n|01/01/2005| 0.46|\n|01/02/2005| 1.82|\n|01/03/2005| 0.51|\n|01/04/2005| 0.35|\n|01/05/2005| 0.28|\n|01/06/2005|  0.5|\n|01/07/2005| 0.59|\n|01/08/2005| 0.44|\n|01/09/2005| 0.44|\n|01/10/2005| 0.56|\n|01/11/2005| 0.41|\n|01/12/2005| 0.22|\n|01/01/2006| 0.68|\n|01/02/2006| 1.54|\n|01/03/2006|  0.4|\n|01/04/2006| 0.33|\n|01/05/2006| 0.33|\n|01/06/2006| 0.17|\n|01/07/2006| 0.36|\n|01/08/2006| 0.36|\n+----------+-----+\nonly showing top 20 rows\n"
     ]
    }
   ],
   "source": [
    "# verificar se a requisição funcionou\n",
    "if response.status_code == 200:\n",
    "    # ler dados CSV com Pandas\n",
    "    df_pandas = pd.read_csv(StringIO(response.text), sep=\";\", encoding=\"latin1\")\n",
    "    \n",
    "    # converter \"valor\" para o formato numérico\n",
    "    df_pandas['valor'] = df_pandas['valor'].str.replace(',', '.')\n",
    "    df_pandas.valor = pd.to_numeric(df_pandas.valor, errors='coerce')\n",
    "\n",
    "    # converter Pandas para Spark\n",
    "    df_spark = spark.createDataFrame(df_pandas)\n",
    "\n",
    "    # exibir dados\n",
    "    df_spark.show()\n",
    "\n",
    "    # salvar tabela temporária no Databricks\n",
    "    df_spark.createOrReplaceTempView(\"dados_ipca\")\n",
    "\n",
    "else:\n",
    "    print(f\"erro ao acessar a API: {response.status_code}\")"
   ]
  },
  {
   "cell_type": "code",
   "execution_count": 0,
   "metadata": {
    "application/vnd.databricks.v1+cell": {
     "cellMetadata": {
      "byteLimit": 2048000,
      "rowLimit": 10000
     },
     "inputWidgets": {},
     "nuid": "57bddb16-de7d-4100-b4fd-0795a09b0d3c",
     "showTitle": false,
     "tableResultSettingsMap": {},
     "title": ""
    }
   },
   "outputs": [
    {
     "output_type": "stream",
     "name": "stdout",
     "output_type": "stream",
     "text": [
      "+----+----------------------+\n| ano|ipca_acumulado_jan_dez|\n+----+----------------------+\n|2005|                  6.77|\n|2006|     5.489999999999999|\n|2007|                  5.17|\n|2008|                  6.38|\n|2009|     6.370000000000001|\n|2010|                  7.62|\n|2011|                  9.01|\n|2012|                  8.75|\n|2013|                  8.75|\n|2014|                  8.33|\n|2015|                  8.09|\n|2016|    6.4799999999999995|\n|2017|                  4.53|\n|2018|                  3.35|\n|2019|                  3.52|\n|2020|                  1.73|\n|2021|                  4.75|\n|2022|                  7.57|\n|2023|                  6.22|\n|2024|                  4.74|\n+----+----------------------+\nonly showing top 20 rows\n"
     ]
    }
   ],
   "source": [
    "# criar base a partir do cálculo IPCA acumulado jan-dez por ano\n",
    "df_spark_acumulado = spark.sql(\"\"\"\n",
    "SELECT \n",
    "    EXTRACT(YEAR FROM TO_DATE(data, 'dd/MM/yyyy')) AS ano, \n",
    "    ROUND(EXP(SUM(LOG(1 + (valor / 100)))) - 1, 4) * 100 AS ipca_acumulado_jan_dez\n",
    "FROM dados_ipca\n",
    "GROUP BY all\n",
    "ORDER BY ano ASC\n",
    "\"\"\")\n",
    "\n",
    "# exibir dados\n",
    "df_spark_acumulado.show()"
   ]
  },
  {
   "cell_type": "code",
   "execution_count": 0,
   "metadata": {
    "application/vnd.databricks.v1+cell": {
     "cellMetadata": {
      "byteLimit": 2048000,
      "rowLimit": 10000
     },
     "inputWidgets": {},
     "nuid": "626b01d7-e818-4ad7-85c6-b8a4d3076b2b",
     "showTitle": false,
     "tableResultSettingsMap": {},
     "title": ""
    }
   },
   "outputs": [
    {
     "output_type": "stream",
     "name": "stdout",
     "output_type": "stream",
     "text": [
      "+---+-------------------+\n|mes| ipca_acumulado_mes|\n+---+-------------------+\n|  1| 0.5390476190476191|\n|  2|  1.235238095238095|\n|  3|              0.372|\n|  4|0.41550000000000004|\n|  5|0.26549999999999996|\n|  6|0.43149999999999994|\n|  7|              0.449|\n|  8|             0.3125|\n|  9|0.42750000000000005|\n| 10|0.46749999999999997|\n| 11|             0.4335|\n| 12|             0.6465|\n+---+-------------------+\n\n"
     ]
    }
   ],
   "source": [
    "# criar base a partir do cálculo médio do IPCA por mes\n",
    "df_spark_acumulado_mes = spark.sql(\"\"\"\n",
    "SELECT \n",
    "    EXTRACT(MONTH FROM TO_DATE(data, 'dd/MM/yyyy')) AS mes, \n",
    "    avg(valor) AS ipca_acumulado_mes\n",
    "FROM dados_ipca\n",
    "GROUP BY all\n",
    "ORDER BY mes ASC\n",
    "\"\"\")\n",
    "\n",
    "# exibir dados\n",
    "df_spark_acumulado_mes.show()"
   ]
  },
  {
   "cell_type": "code",
   "execution_count": 0,
   "metadata": {
    "application/vnd.databricks.v1+cell": {
     "cellMetadata": {
      "byteLimit": 2048000,
      "rowLimit": 10000
     },
     "inputWidgets": {},
     "nuid": "67e261c3-c27c-468d-81f4-88e35c7061c6",
     "showTitle": false,
     "tableResultSettingsMap": {},
     "title": ""
    }
   },
   "outputs": [
    {
     "output_type": "stream",
     "name": "stdout",
     "output_type": "stream",
     "text": [
      "Dados armazenados como tabelas Delta no catálogo do Databricks\n"
     ]
    }
   ],
   "source": [
    "# salvar dados Delta Lake no Databricks\n",
    "df_spark.write.format(\"delta\").mode(\"overwrite\").saveAsTable(\"dados_ipca\")\n",
    "df_spark_acumulado.write.format(\"delta\").mode(\"overwrite\").saveAsTable(\"ipca_acumulado\")\n",
    "df_spark_acumulado_mes.write.format(\"delta\").mode(\"overwrite\").saveAsTable(\"ipca_acumulado_mes\")\n",
    "\n",
    "print(\"Dados armazenados como tabelas Delta no catálogo do Databricks\")"
   ]
  },
  {
   "cell_type": "code",
   "execution_count": 0,
   "metadata": {
    "application/vnd.databricks.v1+cell": {
     "cellMetadata": {
      "byteLimit": 2048000,
      "rowLimit": 10000
     },
     "inputWidgets": {},
     "nuid": "f293c4d5-0f7c-470a-b252-c18534a6467f",
     "showTitle": false,
     "tableResultSettingsMap": {},
     "title": ""
    }
   },
   "outputs": [
    {
     "output_type": "display_data",
     "data": {
      "text/html": [
       "<style scoped>\n",
       "  .table-result-container {\n",
       "    max-height: 300px;\n",
       "    overflow: auto;\n",
       "  }\n",
       "  table, th, td {\n",
       "    border: 1px solid black;\n",
       "    border-collapse: collapse;\n",
       "  }\n",
       "  th, td {\n",
       "    padding: 5px;\n",
       "  }\n",
       "  th {\n",
       "    text-align: left;\n",
       "  }\n",
       "</style><div class='table-result-container'><table class='table-result'><thead style='background-color: white'><tr><th>data</th><th>valor</th></tr></thead><tbody><tr><td>01/01/2005</td><td>0.46</td></tr><tr><td>01/02/2005</td><td>1.82</td></tr><tr><td>01/03/2005</td><td>0.51</td></tr><tr><td>01/04/2005</td><td>0.35</td></tr><tr><td>01/05/2005</td><td>0.28</td></tr><tr><td>01/06/2005</td><td>0.5</td></tr><tr><td>01/07/2005</td><td>0.59</td></tr><tr><td>01/08/2005</td><td>0.44</td></tr><tr><td>01/09/2005</td><td>0.44</td></tr><tr><td>01/10/2005</td><td>0.56</td></tr><tr><td>01/11/2005</td><td>0.41</td></tr><tr><td>01/12/2005</td><td>0.22</td></tr><tr><td>01/01/2006</td><td>0.68</td></tr><tr><td>01/02/2006</td><td>1.54</td></tr><tr><td>01/03/2006</td><td>0.4</td></tr><tr><td>01/04/2006</td><td>0.33</td></tr><tr><td>01/05/2006</td><td>0.33</td></tr><tr><td>01/06/2006</td><td>0.17</td></tr><tr><td>01/07/2006</td><td>0.36</td></tr><tr><td>01/08/2006</td><td>0.36</td></tr><tr><td>01/09/2006</td><td>0.38</td></tr><tr><td>01/10/2006</td><td>0.43</td></tr><tr><td>01/11/2006</td><td>0.19</td></tr><tr><td>01/12/2006</td><td>0.19</td></tr><tr><td>01/01/2007</td><td>0.48</td></tr><tr><td>01/02/2007</td><td>1.39</td></tr><tr><td>01/03/2007</td><td>0.38</td></tr><tr><td>01/04/2007</td><td>0.18</td></tr><tr><td>01/05/2007</td><td>0.26</td></tr><tr><td>01/06/2007</td><td>0.23</td></tr></tbody></table></div>"
      ]
     },
     "metadata": {
      "application/vnd.databricks.v1+output": {
       "addedWidgets": {},
       "aggData": [],
       "aggError": "",
       "aggOverflow": false,
       "aggSchema": [],
       "aggSeriesLimitReached": false,
       "aggType": "",
       "arguments": {},
       "columnCustomDisplayInfos": {},
       "data": [
        [
         "01/01/2005",
         0.46
        ],
        [
         "01/02/2005",
         1.82
        ],
        [
         "01/03/2005",
         0.51
        ],
        [
         "01/04/2005",
         0.35
        ],
        [
         "01/05/2005",
         0.28
        ],
        [
         "01/06/2005",
         0.5
        ],
        [
         "01/07/2005",
         0.59
        ],
        [
         "01/08/2005",
         0.44
        ],
        [
         "01/09/2005",
         0.44
        ],
        [
         "01/10/2005",
         0.56
        ],
        [
         "01/11/2005",
         0.41
        ],
        [
         "01/12/2005",
         0.22
        ],
        [
         "01/01/2006",
         0.68
        ],
        [
         "01/02/2006",
         1.54
        ],
        [
         "01/03/2006",
         0.4
        ],
        [
         "01/04/2006",
         0.33
        ],
        [
         "01/05/2006",
         0.33
        ],
        [
         "01/06/2006",
         0.17
        ],
        [
         "01/07/2006",
         0.36
        ],
        [
         "01/08/2006",
         0.36
        ],
        [
         "01/09/2006",
         0.38
        ],
        [
         "01/10/2006",
         0.43
        ],
        [
         "01/11/2006",
         0.19
        ],
        [
         "01/12/2006",
         0.19
        ],
        [
         "01/01/2007",
         0.48
        ],
        [
         "01/02/2007",
         1.39
        ],
        [
         "01/03/2007",
         0.38
        ],
        [
         "01/04/2007",
         0.18
        ],
        [
         "01/05/2007",
         0.26
        ],
        [
         "01/06/2007",
         0.23
        ]
       ],
       "datasetInfos": [],
       "dbfsResultPath": null,
       "isJsonSchema": true,
       "metadata": {},
       "overflow": false,
       "plotOptions": {
        "customPlotOptions": {},
        "displayType": "table",
        "pivotAggregation": null,
        "pivotColumns": null,
        "xColumns": null,
        "yColumns": null
       },
       "removedWidgets": [],
       "schema": [
        {
         "metadata": "{}",
         "name": "data",
         "type": "\"string\""
        },
        {
         "metadata": "{}",
         "name": "valor",
         "type": "\"double\""
        }
       ],
       "type": "table"
      }
     },
     "output_type": "display_data"
    },
    {
     "output_type": "display_data",
     "data": {
      "text/html": [
       "<style scoped>\n",
       "  .table-result-container {\n",
       "    max-height: 300px;\n",
       "    overflow: auto;\n",
       "  }\n",
       "  table, th, td {\n",
       "    border: 1px solid black;\n",
       "    border-collapse: collapse;\n",
       "  }\n",
       "  th, td {\n",
       "    padding: 5px;\n",
       "  }\n",
       "  th {\n",
       "    text-align: left;\n",
       "  }\n",
       "</style><div class='table-result-container'><table class='table-result'><thead style='background-color: white'><tr><th>ano</th><th>ipca_acumulado_jan_dez</th></tr></thead><tbody><tr><td>2005</td><td>6.77</td></tr><tr><td>2006</td><td>5.489999999999999</td></tr><tr><td>2007</td><td>5.17</td></tr><tr><td>2008</td><td>6.38</td></tr><tr><td>2009</td><td>6.370000000000001</td></tr><tr><td>2010</td><td>7.62</td></tr><tr><td>2011</td><td>9.01</td></tr><tr><td>2012</td><td>8.75</td></tr><tr><td>2013</td><td>8.75</td></tr><tr><td>2014</td><td>8.33</td></tr><tr><td>2015</td><td>8.09</td></tr><tr><td>2016</td><td>6.4799999999999995</td></tr><tr><td>2017</td><td>4.53</td></tr><tr><td>2018</td><td>3.35</td></tr><tr><td>2019</td><td>3.52</td></tr><tr><td>2020</td><td>1.73</td></tr><tr><td>2021</td><td>4.75</td></tr><tr><td>2022</td><td>7.57</td></tr><tr><td>2023</td><td>6.22</td></tr><tr><td>2024</td><td>4.74</td></tr><tr><td>2025</td><td>1.6099999999999999</td></tr></tbody></table></div>"
      ]
     },
     "metadata": {
      "application/vnd.databricks.v1+output": {
       "addedWidgets": {},
       "aggData": [],
       "aggError": "",
       "aggOverflow": false,
       "aggSchema": [],
       "aggSeriesLimitReached": false,
       "aggType": "",
       "arguments": {},
       "columnCustomDisplayInfos": {},
       "data": [
        [
         2005,
         6.77
        ],
        [
         2006,
         5.489999999999999
        ],
        [
         2007,
         5.17
        ],
        [
         2008,
         6.38
        ],
        [
         2009,
         6.370000000000001
        ],
        [
         2010,
         7.62
        ],
        [
         2011,
         9.01
        ],
        [
         2012,
         8.75
        ],
        [
         2013,
         8.75
        ],
        [
         2014,
         8.33
        ],
        [
         2015,
         8.09
        ],
        [
         2016,
         6.4799999999999995
        ],
        [
         2017,
         4.53
        ],
        [
         2018,
         3.35
        ],
        [
         2019,
         3.52
        ],
        [
         2020,
         1.73
        ],
        [
         2021,
         4.75
        ],
        [
         2022,
         7.57
        ],
        [
         2023,
         6.22
        ],
        [
         2024,
         4.74
        ],
        [
         2025,
         1.6099999999999999
        ]
       ],
       "datasetInfos": [],
       "dbfsResultPath": null,
       "isJsonSchema": true,
       "metadata": {},
       "overflow": false,
       "plotOptions": {
        "customPlotOptions": {},
        "displayType": "table",
        "pivotAggregation": null,
        "pivotColumns": null,
        "xColumns": null,
        "yColumns": null
       },
       "removedWidgets": [],
       "schema": [
        {
         "metadata": "{}",
         "name": "ano",
         "type": "\"integer\""
        },
        {
         "metadata": "{}",
         "name": "ipca_acumulado_jan_dez",
         "type": "\"double\""
        }
       ],
       "type": "table"
      }
     },
     "output_type": "display_data"
    },
    {
     "output_type": "display_data",
     "data": {
      "text/html": [
       "<style scoped>\n",
       "  .table-result-container {\n",
       "    max-height: 300px;\n",
       "    overflow: auto;\n",
       "  }\n",
       "  table, th, td {\n",
       "    border: 1px solid black;\n",
       "    border-collapse: collapse;\n",
       "  }\n",
       "  th, td {\n",
       "    padding: 5px;\n",
       "  }\n",
       "  th {\n",
       "    text-align: left;\n",
       "  }\n",
       "</style><div class='table-result-container'><table class='table-result'><thead style='background-color: white'><tr><th>mes</th><th>ipca_acumulado_mes</th></tr></thead><tbody><tr><td>1</td><td>0.5390476190476191</td></tr><tr><td>2</td><td>1.235238095238095</td></tr><tr><td>3</td><td>0.372</td></tr><tr><td>4</td><td>0.41550000000000004</td></tr><tr><td>5</td><td>0.26549999999999996</td></tr><tr><td>6</td><td>0.43149999999999994</td></tr><tr><td>7</td><td>0.449</td></tr><tr><td>8</td><td>0.3125</td></tr><tr><td>9</td><td>0.42750000000000005</td></tr><tr><td>10</td><td>0.46749999999999997</td></tr><tr><td>11</td><td>0.4335</td></tr><tr><td>12</td><td>0.6465</td></tr></tbody></table></div>"
      ]
     },
     "metadata": {
      "application/vnd.databricks.v1+output": {
       "addedWidgets": {},
       "aggData": [],
       "aggError": "",
       "aggOverflow": false,
       "aggSchema": [],
       "aggSeriesLimitReached": false,
       "aggType": "",
       "arguments": {},
       "columnCustomDisplayInfos": {},
       "data": [
        [
         1,
         0.5390476190476191
        ],
        [
         2,
         1.235238095238095
        ],
        [
         3,
         0.372
        ],
        [
         4,
         0.41550000000000004
        ],
        [
         5,
         0.26549999999999996
        ],
        [
         6,
         0.43149999999999994
        ],
        [
         7,
         0.449
        ],
        [
         8,
         0.3125
        ],
        [
         9,
         0.42750000000000005
        ],
        [
         10,
         0.46749999999999997
        ],
        [
         11,
         0.4335
        ],
        [
         12,
         0.6465
        ]
       ],
       "datasetInfos": [],
       "dbfsResultPath": null,
       "isJsonSchema": true,
       "metadata": {},
       "overflow": false,
       "plotOptions": {
        "customPlotOptions": {},
        "displayType": "table",
        "pivotAggregation": null,
        "pivotColumns": null,
        "xColumns": null,
        "yColumns": null
       },
       "removedWidgets": [],
       "schema": [
        {
         "metadata": "{}",
         "name": "mes",
         "type": "\"integer\""
        },
        {
         "metadata": "{}",
         "name": "ipca_acumulado_mes",
         "type": "\"double\""
        }
       ],
       "type": "table"
      }
     },
     "output_type": "display_data"
    }
   ],
   "source": [
    "# verificar se as tabelas foram criadas no Databricks\n",
    "display(spark.sql(\"SELECT * FROM default.dados_ipca LIMIT 30\"))\n",
    "display(spark.sql(\"SELECT * FROM default.ipca_acumulado ORDER BY ano ASC LIMIT 30\"))\n",
    "display(spark.sql(\"SELECT * FROM default.ipca_acumulado_mes ORDER BY mes ASC LIMIT 30\"))"
   ]
  }
 ],
 "metadata": {
  "application/vnd.databricks.v1+notebook": {
   "computePreferences": null,
   "dashboards": [],
   "environmentMetadata": {
    "base_environment": "",
    "environment_version": "2"
   },
   "language": "python",
   "notebookMetadata": {
    "mostRecentlyExecutedCommandWithImplicitDF": {
     "commandId": 3412776459527121,
     "dataframes": [
      "_sqldf"
     ]
    },
    "pythonIndentUnit": 4
   },
   "notebookName": "Análise Banco IP2CA",
   "widgets": {}
  },
  "language_info": {
   "name": "python"
  }
 },
 "nbformat": 4,
 "nbformat_minor": 0
}